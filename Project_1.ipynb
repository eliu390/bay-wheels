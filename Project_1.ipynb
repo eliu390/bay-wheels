{
 "cells": [
  {
   "cell_type": "markdown",
   "metadata": {},
   "source": [
    "## Part 3 - Further Analysis\n",
    "-------"
   ]
  },
  {
   "cell_type": "code",
   "execution_count": 3,
   "metadata": {},
   "outputs": [],
   "source": [
    "import pandas as pd\n",
    "import warnings\n",
    "warnings.filterwarnings('ignore')\n",
    "import numpy as np\n",
    "import matplotlib.pyplot as plt\n",
    "import matplotlib.patches as mpatches\n",
    "import geopandas as gpd\n",
    "from shapely.geometry import Point, Polygon"
   ]
  },
  {
   "cell_type": "code",
   "execution_count": 4,
   "metadata": {
    "collapsed": true,
    "jupyter": {
     "outputs_hidden": true
    }
   },
   "outputs": [
    {
     "name": "stdout",
     "output_type": "stream",
     "text": [
      "Requirement already satisfied: google-cloud-bigquery-storage in /opt/conda/lib/python3.7/site-packages (1.0.0)\n",
      "Requirement already satisfied: google-api-core[grpc]<2.0.0dev,>=1.14.0 in /opt/conda/lib/python3.7/site-packages (from google-cloud-bigquery-storage) (1.22.4)\n",
      "Requirement already satisfied: protobuf>=3.12.0 in /opt/conda/lib/python3.7/site-packages (from google-api-core[grpc]<2.0.0dev,>=1.14.0->google-cloud-bigquery-storage) (3.14.0)\n",
      "Requirement already satisfied: six>=1.13.0 in /opt/conda/lib/python3.7/site-packages (from google-api-core[grpc]<2.0.0dev,>=1.14.0->google-cloud-bigquery-storage) (1.15.0)\n",
      "Requirement already satisfied: google-auth<2.0dev,>=1.21.1 in /opt/conda/lib/python3.7/site-packages (from google-api-core[grpc]<2.0.0dev,>=1.14.0->google-cloud-bigquery-storage) (1.24.0)\n",
      "Requirement already satisfied: googleapis-common-protos<2.0dev,>=1.6.0 in /opt/conda/lib/python3.7/site-packages (from google-api-core[grpc]<2.0.0dev,>=1.14.0->google-cloud-bigquery-storage) (1.52.0)\n",
      "Requirement already satisfied: setuptools>=34.0.0 in /opt/conda/lib/python3.7/site-packages (from google-api-core[grpc]<2.0.0dev,>=1.14.0->google-cloud-bigquery-storage) (51.1.0)\n",
      "Requirement already satisfied: requests<3.0.0dev,>=2.18.0 in /opt/conda/lib/python3.7/site-packages (from google-api-core[grpc]<2.0.0dev,>=1.14.0->google-cloud-bigquery-storage) (2.25.1)\n",
      "Requirement already satisfied: pytz in /opt/conda/lib/python3.7/site-packages (from google-api-core[grpc]<2.0.0dev,>=1.14.0->google-cloud-bigquery-storage) (2020.5)\n",
      "Requirement already satisfied: grpcio<2.0dev,>=1.29.0 in /opt/conda/lib/python3.7/site-packages (from google-api-core[grpc]<2.0.0dev,>=1.14.0->google-cloud-bigquery-storage) (1.34.0)\n",
      "Requirement already satisfied: rsa<5,>=3.1.4 in /opt/conda/lib/python3.7/site-packages (from google-auth<2.0dev,>=1.21.1->google-api-core[grpc]<2.0.0dev,>=1.14.0->google-cloud-bigquery-storage) (4.6)\n",
      "Requirement already satisfied: cachetools<5.0,>=2.0.0 in /opt/conda/lib/python3.7/site-packages (from google-auth<2.0dev,>=1.21.1->google-api-core[grpc]<2.0.0dev,>=1.14.0->google-cloud-bigquery-storage) (4.1.1)\n",
      "Requirement already satisfied: pyasn1-modules>=0.2.1 in /opt/conda/lib/python3.7/site-packages (from google-auth<2.0dev,>=1.21.1->google-api-core[grpc]<2.0.0dev,>=1.14.0->google-cloud-bigquery-storage) (0.2.8)\n",
      "Requirement already satisfied: pyasn1<0.5.0,>=0.4.6 in /opt/conda/lib/python3.7/site-packages (from pyasn1-modules>=0.2.1->google-auth<2.0dev,>=1.21.1->google-api-core[grpc]<2.0.0dev,>=1.14.0->google-cloud-bigquery-storage) (0.4.8)\n",
      "Requirement already satisfied: idna<3,>=2.5 in /opt/conda/lib/python3.7/site-packages (from requests<3.0.0dev,>=2.18.0->google-api-core[grpc]<2.0.0dev,>=1.14.0->google-cloud-bigquery-storage) (2.10)\n",
      "Requirement already satisfied: certifi>=2017.4.17 in /opt/conda/lib/python3.7/site-packages (from requests<3.0.0dev,>=2.18.0->google-api-core[grpc]<2.0.0dev,>=1.14.0->google-cloud-bigquery-storage) (2020.12.5)\n",
      "Requirement already satisfied: chardet<5,>=3.0.2 in /opt/conda/lib/python3.7/site-packages (from requests<3.0.0dev,>=2.18.0->google-api-core[grpc]<2.0.0dev,>=1.14.0->google-cloud-bigquery-storage) (4.0.0)\n",
      "Requirement already satisfied: urllib3<1.27,>=1.21.1 in /opt/conda/lib/python3.7/site-packages (from requests<3.0.0dev,>=2.18.0->google-api-core[grpc]<2.0.0dev,>=1.14.0->google-cloud-bigquery-storage) (1.26.2)\n"
     ]
    }
   ],
   "source": [
    "!pip install google-cloud-bigquery-storage"
   ]
  },
  {
   "cell_type": "markdown",
   "metadata": {},
   "source": [
    "### Hourly Trip Distribution\n",
    "\n",
    "The timestamps in the bikeshare data are in the standard format: \"2015-09-24 17:22:00 UTC\". Initial analysis of Bay Area trip times included a conversion from UTC to PST; however, this produced anomalous results."
   ]
  },
  {
   "cell_type": "code",
   "execution_count": 5,
   "metadata": {},
   "outputs": [],
   "source": [
    "%%bigquery faulty_weekday_subscriber_trip_times\n",
    "SELECT\n",
    "    EXTRACT(\n",
    "        HOUR FROM end_date\n",
    "        AT TIME ZONE \"America/Los_Angeles\"\n",
    "    ) AS trip_time\n",
    "FROM `bigquery-public-data.san_francisco.bikeshare_trips`\n",
    "WHERE subscriber_type = \"Subscriber\"\n",
    "AND EXTRACT(\n",
    "    DAYOFWEEK FROM end_date\n",
    "    AT TIME ZONE \"America/Los_Angeles\"\n",
    ") BETWEEN 2 AND 6\n",
    "AND SUBSTRING(zip_code, 1, 2) = \"94\""
   ]
  },
  {
   "cell_type": "code",
   "execution_count": 6,
   "metadata": {},
   "outputs": [
    {
     "data": {
      "image/png": "[encoded data removed]",
      "text/plain": [
       "<Figure size 432x288 with 1 Axes>"
      ]
     },
     "metadata": {
      "needs_background": "light"
     },
     "output_type": "display_data"
    }
   ],
   "source": [
    "plt.hist(faulty_weekday_subscriber_trip_times, 24, range=[0, 24], rwidth=0.7, histtype='bar');\n",
    "plt.title('Bay Area subscriber - faulty weekday trip end times')\n",
    "plt.xlabel('Trip end time')\n",
    "plt.ylabel('Trip count')\n",
    "plt.show()"
   ]
  },
  {
   "cell_type": "markdown",
   "metadata": {},
   "source": [
    "Initial analysis applied a UTC to PST conversion on all timestamps. The result shown above suggested that Bay Area subscribers rode bikes most frequently between 12-3am and 9-12am on weekdays."
   ]
  },
  {
   "cell_type": "code",
   "execution_count": 7,
   "metadata": {},
   "outputs": [],
   "source": [
    "%%bigquery faulty_weekend_subscriber_trip_times\n",
    "SELECT\n",
    "    EXTRACT(\n",
    "        HOUR FROM end_date\n",
    "        AT TIME ZONE \"America/Los_Angeles\"\n",
    "    ) AS trip_time\n",
    "FROM `bigquery-public-data.san_francisco.bikeshare_trips`\n",
    "WHERE subscriber_type = \"Subscriber\"\n",
    "AND EXTRACT(\n",
    "    DAYOFWEEK FROM end_date\n",
    "    AT TIME ZONE \"America/Los_Angeles\"\n",
    ") NOT BETWEEN 2 AND 6\n",
    "AND SUBSTRING(zip_code, 1, 2) = \"94\""
   ]
  },
  {
   "cell_type": "code",
   "execution_count": 8,
   "metadata": {},
   "outputs": [
    {
     "data": {
      "image/png": "[encoded data removed]",
      "text/plain": [
       "<Figure size 432x288 with 1 Axes>"
      ]
     },
     "metadata": {
      "needs_background": "light"
     },
     "output_type": "display_data"
    }
   ],
   "source": [
    "plt.hist(faulty_weekend_subscriber_trip_times, 24, range=[0, 24], rwidth=0.7, histtype='bar');\n",
    "plt.title('Bay Area subscriber - faulty weekend trip end times')\n",
    "plt.xlabel('Trip end time')\n",
    "plt.ylabel('Trip count')\n",
    "plt.show()"
   ]
  },
  {
   "cell_type": "markdown",
   "metadata": {},
   "source": [
    "The same faulty analysis applied to Bay Area subscriber trips on weekends showed a large jump at 11pm-12am, corresponding to the 12-3am weekday subscriber rush. These results were convincing evidence that the timestamps in the bikeshare dataset were not actually in UTC, but became labelled as UTC as an artifact of data formatting."
   ]
  },
  {
   "cell_type": "markdown",
   "metadata": {},
   "source": [
    "<a id='q3'></a>\n",
    "Repeating the analysis without the UTC to PST conversion produced more realistic results. The queries in [Part 2](Project_1_Part2.md#Question-1---Trip-Distributions) were corrected to match."
   ]
  },
  {
   "cell_type": "code",
   "execution_count": 9,
   "metadata": {},
   "outputs": [],
   "source": [
    "%%bigquery weekday_subscriber_trip_times\n",
    "SELECT\n",
    "    EXTRACT(\n",
    "        HOUR FROM end_date\n",
    "    ) AS trip_time\n",
    "FROM `bigquery-public-data.san_francisco.bikeshare_trips`\n",
    "WHERE subscriber_type = \"Subscriber\"\n",
    "AND EXTRACT(\n",
    "    DAYOFWEEK FROM end_date\n",
    ") BETWEEN 2 AND 6\n",
    "AND SUBSTRING(zip_code, 1, 2) = \"94\""
   ]
  },
  {
   "cell_type": "code",
   "execution_count": 10,
   "metadata": {},
   "outputs": [
    {
     "data": {
      "image/png": "[encoded data removed]",
      "text/plain": [
       "<Figure size 432x288 with 1 Axes>"
      ]
     },
     "metadata": {
      "needs_background": "light"
     },
     "output_type": "display_data"
    }
   ],
   "source": [
    "plt.hist(weekday_subscriber_trip_times, 24, range=[0, 24], rwidth=0.7, histtype='bar');\n",
    "plt.title('Bay Area subscriber - weekday trip end times')\n",
    "plt.xlabel('Trip end time')\n",
    "plt.ylabel('Trip count')\n",
    "plt.show()"
   ]
  },
  {
   "cell_type": "markdown",
   "metadata": {},
   "source": [
    "Not applying a UTC to PST timestamp conversion produced peaks at more realistic times: 7-10am and 4-7pm."
   ]
  },
  {
   "cell_type": "code",
   "execution_count": 11,
   "metadata": {},
   "outputs": [],
   "source": [
    "%%bigquery weekend_subscriber_trip_times\n",
    "SELECT\n",
    "    EXTRACT(\n",
    "        HOUR FROM end_date\n",
    "    ) AS trip_time\n",
    "FROM `bigquery-public-data.san_francisco.bikeshare_trips`\n",
    "WHERE subscriber_type = \"Subscriber\"\n",
    "AND EXTRACT(\n",
    "    DAYOFWEEK FROM end_date\n",
    ") NOT BETWEEN 2 AND 6\n",
    "AND SUBSTRING(zip_code, 1, 2) = \"94\""
   ]
  },
  {
   "cell_type": "code",
   "execution_count": 12,
   "metadata": {},
   "outputs": [
    {
     "data": {
      "image/png": "[encoded data removed]",
      "text/plain": [
       "<Figure size 432x288 with 1 Axes>"
      ]
     },
     "metadata": {
      "needs_background": "light"
     },
     "output_type": "display_data"
    }
   ],
   "source": [
    "n, bins, patches = plt.hist(weekend_subscriber_trip_times, 24, range=[0, 24], rwidth=0.7, histtype='bar')\n",
    "plt.title('Bay Area subscriber - weekend trip end times')\n",
    "plt.xlabel('Trip end time')\n",
    "plt.ylabel('Trip count')\n",
    "plt.show()"
   ]
  },
  {
   "cell_type": "code",
   "execution_count": 13,
   "metadata": {},
   "outputs": [],
   "source": [
    "%%bigquery weekday_customer_trip_times\n",
    "SELECT\n",
    "    EXTRACT(\n",
    "        HOUR FROM end_date\n",
    "    ) AS trip_time\n",
    "FROM `bigquery-public-data.san_francisco.bikeshare_trips`\n",
    "WHERE subscriber_type = \"Customer\"\n",
    "AND EXTRACT(\n",
    "    DAYOFWEEK FROM end_date\n",
    ") BETWEEN 2 AND 6\n",
    "AND SUBSTRING(zip_code, 1, 2) = \"94\""
   ]
  },
  {
   "cell_type": "code",
   "execution_count": 14,
   "metadata": {},
   "outputs": [
    {
     "data": {
      "image/png": "[encoded data removed]",
      "text/plain": [
       "<Figure size 432x288 with 1 Axes>"
      ]
     },
     "metadata": {
      "needs_background": "light"
     },
     "output_type": "display_data"
    }
   ],
   "source": [
    "n, bins, patches = plt.hist(weekday_customer_trip_times, 24, range=[0, 24], rwidth=0.7, histtype='bar')\n",
    "plt.title('Bay Area non-subscriber - weekday trip end times')\n",
    "plt.xlabel('Trip end time')\n",
    "plt.ylabel('Trip count')\n",
    "plt.show()"
   ]
  },
  {
   "cell_type": "code",
   "execution_count": 15,
   "metadata": {},
   "outputs": [],
   "source": [
    "%%bigquery weekend_customer_trip_times\n",
    "SELECT\n",
    "    EXTRACT(\n",
    "        HOUR FROM end_date\n",
    "    ) AS trip_time\n",
    "FROM `bigquery-public-data.san_francisco.bikeshare_trips`\n",
    "WHERE subscriber_type = \"Customer\"\n",
    "AND EXTRACT(\n",
    "    DAYOFWEEK FROM end_date\n",
    ") NOT BETWEEN 2 AND 6\n",
    "AND SUBSTRING(zip_code, 1, 2) = \"94\""
   ]
  },
  {
   "cell_type": "code",
   "execution_count": 16,
   "metadata": {},
   "outputs": [
    {
     "data": {
      "image/png": "[encoded data removed]",
      "text/plain": [
       "<Figure size 432x288 with 1 Axes>"
      ]
     },
     "metadata": {
      "needs_background": "light"
     },
     "output_type": "display_data"
    }
   ],
   "source": [
    "n, bins, patches = plt.hist(weekend_customer_trip_times, 24, range=[0, 24], rwidth=0.7, histtype='bar')\n",
    "plt.title('Bay Area non-subscriber - weekend trip end times')\n",
    "plt.xlabel('Trip end time')\n",
    "plt.ylabel('Trip count')\n",
    "plt.show()"
   ]
  },
  {
   "cell_type": "markdown",
   "metadata": {},
   "source": [
    "Under this improved analysis, Bay Area subscribers behaved like commuters on weekdays, with trips peaking 7-10am and 4-7pm. [Part 2](Project_1_Part2.md#Question-3---Commuter-Trips) lists the most common morning and afternoon Bay Area commuter trips.\n",
    "\n",
    "Bay Area non-subscribers (labelled in dataset as \"Customers\") never behaved like commuters on weekdays or weekends, with trips being broadly distributed during daylight hours.\n",
    "\n",
    "However, the weekend trip distribution for non-subscribers peaks during prime afternoon hours at 1-6pm, suggestive of tourist or recreational behavior. [Part 2](Project_1_Part2.md#Question-2---Popular-Trips) corrobates this by showing that most of the popular weekend trips for Bay Area non-subscribers involved stations along the pier district. With further analysis, this tendency can be targeted with promotional deals."
   ]
  },
  {
   "cell_type": "markdown",
   "metadata": {},
   "source": [
    "<a id='q4'></a>\n",
    "### Identical Trips"
   ]
  },
  {
   "cell_type": "markdown",
   "metadata": {},
   "source": [
    "Identical trips have the same starting station, starting timestamp, ending station, and ending timestamp. Such trips have a higher likelihood of being made by associated people, such as friends or groups of tourists.\n",
    "\n",
    "According to [Part 2](Project_1_Part2.md#Question-4---Identical-Trips), In the entire dataset, 19% of non-subscriber trips were identical trips, but only 13% of non-subscriber trips in the Bay Area were identical trips. A lower fraction of non-subscribers made identical trips in the Bay Area, which suggests that more people may have opted against using the bikeshare program than the global average."
   ]
  },
  {
   "cell_type": "code",
   "execution_count": 17,
   "metadata": {},
   "outputs": [],
   "source": [
    "%%bigquery popular_identical_starts\n",
    "SELECT\n",
    "    start_station_name,\n",
    "    latitude,\n",
    "    longitude,\n",
    "    SUM(identical_trips) AS total_identical_trips\n",
    "FROM (\n",
    "    SELECT\n",
    "        start_station_name,\n",
    "        latitude,\n",
    "        longitude,\n",
    "        end_station_name,\n",
    "        start_date,\n",
    "        end_date,\n",
    "        COUNT(*) AS identical_trips\n",
    "    FROM `bigquery-public-data.san_francisco.bikeshare_trips` AS Trips\n",
    "    JOIN `bigquery-public-data.san_francisco.bikeshare_stations` AS Stations\n",
    "    ON Trips.start_station_id = Stations.station_id\n",
    "    WHERE subscriber_type = \"Customer\"\n",
    "    AND SUBSTRING(zip_code, 1, 2) = \"94\"\n",
    "    GROUP BY \n",
    "        start_station_name,\n",
    "        latitude,\n",
    "        longitude,\n",
    "        end_station_name,\n",
    "        start_date,\n",
    "        end_date\n",
    ")\n",
    "WHERE identical_trips != 1\n",
    "GROUP BY\n",
    "    start_station_name,\n",
    "    latitude,\n",
    "    longitude\n",
    "ORDER BY total_identical_trips DESC\n",
    "LIMIT 10"
   ]
  },
  {
   "cell_type": "code",
   "execution_count": 18,
   "metadata": {},
   "outputs": [
    {
     "data": {
      "text/html": [
       "<div>\n",
       "<style scoped>\n",
       "    .dataframe tbody tr th:only-of-type {\n",
       "        vertical-align: middle;\n",
       "    }\n",
       "\n",
       "    .dataframe tbody tr th {\n",
       "        vertical-align: top;\n",
       "    }\n",
       "\n",
       "    .dataframe thead th {\n",
       "        text-align: right;\n",
       "    }\n",
       "</style>\n",
       "<table border=\"1\" class=\"dataframe\">\n",
       "  <thead>\n",
       "    <tr style=\"text-align: right;\">\n",
       "      <th></th>\n",
       "      <th>latitude</th>\n",
       "      <th>longitude</th>\n",
       "      <th>total_identical_trips</th>\n",
       "    </tr>\n",
       "    <tr>\n",
       "      <th>start_station_name</th>\n",
       "      <th></th>\n",
       "      <th></th>\n",
       "      <th></th>\n",
       "    </tr>\n",
       "  </thead>\n",
       "  <tbody>\n",
       "    <tr>\n",
       "      <th>Embarcadero at Sansome</th>\n",
       "      <td>37.804770</td>\n",
       "      <td>-122.403234</td>\n",
       "      <td>609</td>\n",
       "    </tr>\n",
       "    <tr>\n",
       "      <th>Harry Bridges Plaza (Ferry Building)</th>\n",
       "      <td>37.795392</td>\n",
       "      <td>-122.394203</td>\n",
       "      <td>547</td>\n",
       "    </tr>\n",
       "    <tr>\n",
       "      <th>2nd at Townsend</th>\n",
       "      <td>37.780526</td>\n",
       "      <td>-122.390288</td>\n",
       "      <td>247</td>\n",
       "    </tr>\n",
       "    <tr>\n",
       "      <th>Embarcadero at Vallejo</th>\n",
       "      <td>37.799953</td>\n",
       "      <td>-122.398525</td>\n",
       "      <td>231</td>\n",
       "    </tr>\n",
       "    <tr>\n",
       "      <th>Embarcadero at Bryant</th>\n",
       "      <td>37.787152</td>\n",
       "      <td>-122.388013</td>\n",
       "      <td>209</td>\n",
       "    </tr>\n",
       "    <tr>\n",
       "      <th>Steuart at Market</th>\n",
       "      <td>37.794139</td>\n",
       "      <td>-122.394434</td>\n",
       "      <td>185</td>\n",
       "    </tr>\n",
       "    <tr>\n",
       "      <th>Market at 4th</th>\n",
       "      <td>37.786305</td>\n",
       "      <td>-122.404966</td>\n",
       "      <td>177</td>\n",
       "    </tr>\n",
       "    <tr>\n",
       "      <th>Grant Avenue at Columbus Avenue</th>\n",
       "      <td>37.797900</td>\n",
       "      <td>-122.405942</td>\n",
       "      <td>170</td>\n",
       "    </tr>\n",
       "    <tr>\n",
       "      <th>San Francisco Caltrain (Townsend at 4th)</th>\n",
       "      <td>37.776617</td>\n",
       "      <td>-122.395260</td>\n",
       "      <td>159</td>\n",
       "    </tr>\n",
       "    <tr>\n",
       "      <th>Market at Sansome</th>\n",
       "      <td>37.789625</td>\n",
       "      <td>-122.400811</td>\n",
       "      <td>123</td>\n",
       "    </tr>\n",
       "  </tbody>\n",
       "</table>\n",
       "</div>"
      ],
      "text/plain": [
       "                                           latitude   longitude  \\\n",
       "start_station_name                                                \n",
       "Embarcadero at Sansome                    37.804770 -122.403234   \n",
       "Harry Bridges Plaza (Ferry Building)      37.795392 -122.394203   \n",
       "2nd at Townsend                           37.780526 -122.390288   \n",
       "Embarcadero at Vallejo                    37.799953 -122.398525   \n",
       "Embarcadero at Bryant                     37.787152 -122.388013   \n",
       "Steuart at Market                         37.794139 -122.394434   \n",
       "Market at 4th                             37.786305 -122.404966   \n",
       "Grant Avenue at Columbus Avenue           37.797900 -122.405942   \n",
       "San Francisco Caltrain (Townsend at 4th)  37.776617 -122.395260   \n",
       "Market at Sansome                         37.789625 -122.400811   \n",
       "\n",
       "                                          total_identical_trips  \n",
       "start_station_name                                               \n",
       "Embarcadero at Sansome                                      609  \n",
       "Harry Bridges Plaza (Ferry Building)                        547  \n",
       "2nd at Townsend                                             247  \n",
       "Embarcadero at Vallejo                                      231  \n",
       "Embarcadero at Bryant                                       209  \n",
       "Steuart at Market                                           185  \n",
       "Market at 4th                                               177  \n",
       "Grant Avenue at Columbus Avenue                             170  \n",
       "San Francisco Caltrain (Townsend at 4th)                    159  \n",
       "Market at Sansome                                           123  "
      ]
     },
     "execution_count": 18,
     "metadata": {},
     "output_type": "execute_result"
    }
   ],
   "source": [
    "popular_identical_starts.set_index('start_station_name', inplace=True)\n",
    "popular_identical_starts"
   ]
  },
  {
   "cell_type": "code",
   "execution_count": 19,
   "metadata": {},
   "outputs": [
    {
     "data": {
      "image/png": "[encoded data removed]",
      "text/plain": [
       "<Figure size 936x720 with 1 Axes>"
      ]
     },
     "metadata": {
      "needs_background": "light"
     },
     "output_type": "display_data"
    }
   ],
   "source": [
    "sf = gpd.read_file(\"Analysis Neighborhoods.geojson\")\n",
    "sf = sf.rename(columns={'geometry': 'geometry','nhood':'neighborhood_name'}).set_geometry('geometry')\n",
    "\n",
    "popular_identical_starts['geometry'] = popular_identical_starts.apply(lambda row: Point(row['longitude'], row['latitude']), axis=1)\n",
    "crs = {'init': 'epsg:4326'}\n",
    "data = gpd.GeoDataFrame(popular_identical_starts, crs=crs, geometry = 'geometry')\n",
    "\n",
    "fig, ax = plt.subplots(1, figsize=(13,10))\n",
    "sf_map = sf.plot(ax=ax, color='gray')\n",
    "data.plot(ax=sf_map, marker=\"o\", markersize=data['total_identical_trips'] * 1.5, alpha=0.3, color='m')\n",
    "ax.set_title(\"Popular Starting Stations for Identical Trips\")\n",
    "plt.show()"
   ]
  },
  {
   "cell_type": "markdown",
   "metadata": {},
   "source": [
    "According to the above result, the 10 most popular starting stations for identical trips by Bay Area non-subscribers are all located in the tourist district of SF and nearby public transit stations."
   ]
  },
  {
   "cell_type": "markdown",
   "metadata": {},
   "source": [
    "<a id='p1'></a>**Proposal 1:** Promote the Access Pass (\\$10 for unlimited 30-min rides for 24hrs) at these stations by offering a discount on additional Access Pass purchases for groups. This discount may encourage groups of non-subscribers to choose the bikeshare program over some other means of navigating the tourist district."
   ]
  },
  {
   "cell_type": "markdown",
   "metadata": {},
   "source": [
    "<a id='q5'></a>\n",
    "### Bike Shortages and Surpluses"
   ]
  },
  {
   "cell_type": "markdown",
   "metadata": {},
   "source": [
    "Popular stations may experience bike shortages or surpluses, and the transport of bikes (using trucks) to rectify imbalances can be costly. Incentivizing users to assist in this process can alleviate some of the costs."
   ]
  },
  {
   "cell_type": "code",
   "execution_count": 26,
   "metadata": {},
   "outputs": [],
   "source": [
    "%%bigquery station_outs\n",
    "SELECT\n",
    "    start_station_name,\n",
    "    latitude,\n",
    "    longitude,\n",
    "    COUNT(*) AS total_starts\n",
    "FROM `bigquery-public-data.san_francisco.bikeshare_trips` AS Trips\n",
    "JOIN `bigquery-public-data.san_francisco.bikeshare_stations` AS Stations\n",
    "ON Trips.start_station_id = Stations.station_id\n",
    "WHERE SUBSTRING(zip_code, 1, 2) = \"94\"\n",
    "GROUP BY\n",
    "    start_station_name,\n",
    "    latitude,\n",
    "    longitude\n",
    "ORDER BY start_station_name"
   ]
  },
  {
   "cell_type": "code",
   "execution_count": 27,
   "metadata": {},
   "outputs": [
    {
     "data": {
      "text/html": [
       "<div>\n",
       "<style scoped>\n",
       "    .dataframe tbody tr th:only-of-type {\n",
       "        vertical-align: middle;\n",
       "    }\n",
       "\n",
       "    .dataframe tbody tr th {\n",
       "        vertical-align: top;\n",
       "    }\n",
       "\n",
       "    .dataframe thead th {\n",
       "        text-align: right;\n",
       "    }\n",
       "</style>\n",
       "<table border=\"1\" class=\"dataframe\">\n",
       "  <thead>\n",
       "    <tr style=\"text-align: right;\">\n",
       "      <th></th>\n",
       "      <th>start_station_name</th>\n",
       "      <th>latitude</th>\n",
       "      <th>longitude</th>\n",
       "      <th>total_starts</th>\n",
       "    </tr>\n",
       "  </thead>\n",
       "  <tbody>\n",
       "    <tr>\n",
       "      <th>0</th>\n",
       "      <td>2nd at Folsom</td>\n",
       "      <td>37.785299</td>\n",
       "      <td>-122.396236</td>\n",
       "      <td>21212</td>\n",
       "    </tr>\n",
       "    <tr>\n",
       "      <th>1</th>\n",
       "      <td>2nd at South Park</td>\n",
       "      <td>37.782259</td>\n",
       "      <td>-122.392738</td>\n",
       "      <td>24188</td>\n",
       "    </tr>\n",
       "    <tr>\n",
       "      <th>2</th>\n",
       "      <td>2nd at Townsend</td>\n",
       "      <td>37.780526</td>\n",
       "      <td>-122.390288</td>\n",
       "      <td>35155</td>\n",
       "    </tr>\n",
       "    <tr>\n",
       "      <th>3</th>\n",
       "      <td>5th S at E. San Salvador St</td>\n",
       "      <td>37.331957</td>\n",
       "      <td>-121.881630</td>\n",
       "      <td>10</td>\n",
       "    </tr>\n",
       "    <tr>\n",
       "      <th>4</th>\n",
       "      <td>5th St at Folsom St</td>\n",
       "      <td>37.780148</td>\n",
       "      <td>-122.403158</td>\n",
       "      <td>145</td>\n",
       "    </tr>\n",
       "    <tr>\n",
       "      <th>...</th>\n",
       "      <td>...</td>\n",
       "      <td>...</td>\n",
       "      <td>...</td>\n",
       "      <td>...</td>\n",
       "    </tr>\n",
       "    <tr>\n",
       "      <th>78</th>\n",
       "      <td>Townsend at 7th</td>\n",
       "      <td>37.771058</td>\n",
       "      <td>-122.402717</td>\n",
       "      <td>32470</td>\n",
       "    </tr>\n",
       "    <tr>\n",
       "      <th>79</th>\n",
       "      <td>University and Emerson</td>\n",
       "      <td>37.444521</td>\n",
       "      <td>-122.163093</td>\n",
       "      <td>872</td>\n",
       "    </tr>\n",
       "    <tr>\n",
       "      <th>80</th>\n",
       "      <td>Washington at Kearney</td>\n",
       "      <td>37.795425</td>\n",
       "      <td>-122.404767</td>\n",
       "      <td>989</td>\n",
       "    </tr>\n",
       "    <tr>\n",
       "      <th>81</th>\n",
       "      <td>Washington at Kearny</td>\n",
       "      <td>37.795425</td>\n",
       "      <td>-122.404767</td>\n",
       "      <td>5186</td>\n",
       "    </tr>\n",
       "    <tr>\n",
       "      <th>82</th>\n",
       "      <td>Yerba Buena Center of the Arts (3rd @ Howard)</td>\n",
       "      <td>37.784878</td>\n",
       "      <td>-122.401014</td>\n",
       "      <td>11811</td>\n",
       "    </tr>\n",
       "  </tbody>\n",
       "</table>\n",
       "<p>83 rows × 4 columns</p>\n",
       "</div>"
      ],
      "text/plain": [
       "                               start_station_name   latitude   longitude  \\\n",
       "0                                   2nd at Folsom  37.785299 -122.396236   \n",
       "1                               2nd at South Park  37.782259 -122.392738   \n",
       "2                                 2nd at Townsend  37.780526 -122.390288   \n",
       "3                     5th S at E. San Salvador St  37.331957 -121.881630   \n",
       "4                             5th St at Folsom St  37.780148 -122.403158   \n",
       "..                                            ...        ...         ...   \n",
       "78                                Townsend at 7th  37.771058 -122.402717   \n",
       "79                         University and Emerson  37.444521 -122.163093   \n",
       "80                          Washington at Kearney  37.795425 -122.404767   \n",
       "81                           Washington at Kearny  37.795425 -122.404767   \n",
       "82  Yerba Buena Center of the Arts (3rd @ Howard)  37.784878 -122.401014   \n",
       "\n",
       "    total_starts  \n",
       "0          21212  \n",
       "1          24188  \n",
       "2          35155  \n",
       "3             10  \n",
       "4            145  \n",
       "..           ...  \n",
       "78         32470  \n",
       "79           872  \n",
       "80           989  \n",
       "81          5186  \n",
       "82         11811  \n",
       "\n",
       "[83 rows x 4 columns]"
      ]
     },
     "execution_count": 27,
     "metadata": {},
     "output_type": "execute_result"
    }
   ],
   "source": [
    "station_outs"
   ]
  },
  {
   "cell_type": "markdown",
   "metadata": {},
   "source": [
    "The above table lists the total number of trips started at each station, equivalent to the total outflow of bikes from that station over the span of the dataset."
   ]
  },
  {
   "cell_type": "code",
   "execution_count": 28,
   "metadata": {},
   "outputs": [],
   "source": [
    "%%bigquery station_ins\n",
    "SELECT\n",
    "    end_station_name,\n",
    "    COUNT(*) AS total_ends\n",
    "FROM `bigquery-public-data.san_francisco.bikeshare_trips`\n",
    "WHERE SUBSTRING(zip_code, 1, 2) = \"94\"\n",
    "GROUP BY end_station_name\n",
    "ORDER BY end_station_name"
   ]
  },
  {
   "cell_type": "code",
   "execution_count": 29,
   "metadata": {},
   "outputs": [
    {
     "data": {
      "text/html": [
       "<div>\n",
       "<style scoped>\n",
       "    .dataframe tbody tr th:only-of-type {\n",
       "        vertical-align: middle;\n",
       "    }\n",
       "\n",
       "    .dataframe tbody tr th {\n",
       "        vertical-align: top;\n",
       "    }\n",
       "\n",
       "    .dataframe thead th {\n",
       "        text-align: right;\n",
       "    }\n",
       "</style>\n",
       "<table border=\"1\" class=\"dataframe\">\n",
       "  <thead>\n",
       "    <tr style=\"text-align: right;\">\n",
       "      <th></th>\n",
       "      <th>end_station_name</th>\n",
       "      <th>total_ends</th>\n",
       "    </tr>\n",
       "  </thead>\n",
       "  <tbody>\n",
       "    <tr>\n",
       "      <th>0</th>\n",
       "      <td>2nd at Folsom</td>\n",
       "      <td>12589</td>\n",
       "    </tr>\n",
       "    <tr>\n",
       "      <th>1</th>\n",
       "      <td>2nd at South Park</td>\n",
       "      <td>22285</td>\n",
       "    </tr>\n",
       "    <tr>\n",
       "      <th>2</th>\n",
       "      <td>2nd at Townsend</td>\n",
       "      <td>39730</td>\n",
       "    </tr>\n",
       "    <tr>\n",
       "      <th>3</th>\n",
       "      <td>5th S at E. San Salvador St</td>\n",
       "      <td>20</td>\n",
       "    </tr>\n",
       "    <tr>\n",
       "      <th>4</th>\n",
       "      <td>5th St at Folsom St</td>\n",
       "      <td>135</td>\n",
       "    </tr>\n",
       "    <tr>\n",
       "      <th>...</th>\n",
       "      <td>...</td>\n",
       "      <td>...</td>\n",
       "    </tr>\n",
       "    <tr>\n",
       "      <th>78</th>\n",
       "      <td>Townsend at 7th</td>\n",
       "      <td>36066</td>\n",
       "    </tr>\n",
       "    <tr>\n",
       "      <th>79</th>\n",
       "      <td>University and Emerson</td>\n",
       "      <td>1120</td>\n",
       "    </tr>\n",
       "    <tr>\n",
       "      <th>80</th>\n",
       "      <td>Washington at Kearney</td>\n",
       "      <td>1336</td>\n",
       "    </tr>\n",
       "    <tr>\n",
       "      <th>81</th>\n",
       "      <td>Washington at Kearny</td>\n",
       "      <td>6967</td>\n",
       "    </tr>\n",
       "    <tr>\n",
       "      <th>82</th>\n",
       "      <td>Yerba Buena Center of the Arts (3rd @ Howard)</td>\n",
       "      <td>13569</td>\n",
       "    </tr>\n",
       "  </tbody>\n",
       "</table>\n",
       "<p>83 rows × 2 columns</p>\n",
       "</div>"
      ],
      "text/plain": [
       "                                 end_station_name  total_ends\n",
       "0                                   2nd at Folsom       12589\n",
       "1                               2nd at South Park       22285\n",
       "2                                 2nd at Townsend       39730\n",
       "3                     5th S at E. San Salvador St          20\n",
       "4                             5th St at Folsom St         135\n",
       "..                                            ...         ...\n",
       "78                                Townsend at 7th       36066\n",
       "79                         University and Emerson        1120\n",
       "80                          Washington at Kearney        1336\n",
       "81                           Washington at Kearny        6967\n",
       "82  Yerba Buena Center of the Arts (3rd @ Howard)       13569\n",
       "\n",
       "[83 rows x 2 columns]"
      ]
     },
     "execution_count": 29,
     "metadata": {},
     "output_type": "execute_result"
    }
   ],
   "source": [
    "station_ins"
   ]
  },
  {
   "cell_type": "markdown",
   "metadata": {},
   "source": [
    "The above table lists the total number of trips ended at each station, equivalent to the total inflow of bikes to that station over the span of the dataset.\n",
    "\n",
    "Taking the difference between the inflow and outflow for each station gives the net bike flow for each station over the span of the dataset."
   ]
  },
  {
   "cell_type": "code",
   "execution_count": 36,
   "metadata": {},
   "outputs": [],
   "source": [
    "station_outs['total_ends'] = station_ins['total_ends']\n",
    "station_outs['net_change'] = station_outs['total_ends'] - station_outs['total_starts']\n",
    "station_changes = station_outs.sort_values(by=['net_change'])\n",
    "negative_stations = station_changes.head(10)\n",
    "positive_stations = station_changes.tail(10)"
   ]
  },
  {
   "cell_type": "code",
   "execution_count": 35,
   "metadata": {},
   "outputs": [
    {
     "data": {
      "text/html": [
       "<div>\n",
       "<style scoped>\n",
       "    .dataframe tbody tr th:only-of-type {\n",
       "        vertical-align: middle;\n",
       "    }\n",
       "\n",
       "    .dataframe tbody tr th {\n",
       "        vertical-align: top;\n",
       "    }\n",
       "\n",
       "    .dataframe thead th {\n",
       "        text-align: right;\n",
       "    }\n",
       "</style>\n",
       "<table border=\"1\" class=\"dataframe\">\n",
       "  <thead>\n",
       "    <tr style=\"text-align: right;\">\n",
       "      <th></th>\n",
       "      <th>start_station_name</th>\n",
       "      <th>net_change</th>\n",
       "    </tr>\n",
       "  </thead>\n",
       "  <tbody>\n",
       "    <tr>\n",
       "      <th>82</th>\n",
       "      <td>Yerba Buena Center of the Arts (3rd @ Howard)</td>\n",
       "      <td>1758</td>\n",
       "    </tr>\n",
       "    <tr>\n",
       "      <th>81</th>\n",
       "      <td>Washington at Kearny</td>\n",
       "      <td>1781</td>\n",
       "    </tr>\n",
       "    <tr>\n",
       "      <th>28</th>\n",
       "      <td>Harry Bridges Plaza (Ferry Building)</td>\n",
       "      <td>2036</td>\n",
       "    </tr>\n",
       "    <tr>\n",
       "      <th>23</th>\n",
       "      <td>Embarcadero at Vallejo</td>\n",
       "      <td>2151</td>\n",
       "    </tr>\n",
       "    <tr>\n",
       "      <th>5</th>\n",
       "      <td>5th at Howard</td>\n",
       "      <td>2177</td>\n",
       "    </tr>\n",
       "    <tr>\n",
       "      <th>60</th>\n",
       "      <td>San Francisco Caltrain 2 (330 Townsend)</td>\n",
       "      <td>2726</td>\n",
       "    </tr>\n",
       "    <tr>\n",
       "      <th>78</th>\n",
       "      <td>Townsend at 7th</td>\n",
       "      <td>3596</td>\n",
       "    </tr>\n",
       "    <tr>\n",
       "      <th>2</th>\n",
       "      <td>2nd at Townsend</td>\n",
       "      <td>4575</td>\n",
       "    </tr>\n",
       "    <tr>\n",
       "      <th>35</th>\n",
       "      <td>Market at Sansome</td>\n",
       "      <td>6505</td>\n",
       "    </tr>\n",
       "    <tr>\n",
       "      <th>59</th>\n",
       "      <td>San Francisco Caltrain (Townsend at 4th)</td>\n",
       "      <td>15731</td>\n",
       "    </tr>\n",
       "  </tbody>\n",
       "</table>\n",
       "</div>"
      ],
      "text/plain": [
       "                               start_station_name  net_change\n",
       "82  Yerba Buena Center of the Arts (3rd @ Howard)        1758\n",
       "81                           Washington at Kearny        1781\n",
       "28           Harry Bridges Plaza (Ferry Building)        2036\n",
       "23                         Embarcadero at Vallejo        2151\n",
       "5                                   5th at Howard        2177\n",
       "60        San Francisco Caltrain 2 (330 Townsend)        2726\n",
       "78                                Townsend at 7th        3596\n",
       "2                                 2nd at Townsend        4575\n",
       "35                              Market at Sansome        6505\n",
       "59       San Francisco Caltrain (Townsend at 4th)       15731"
      ]
     },
     "execution_count": 35,
     "metadata": {},
     "output_type": "execute_result"
    }
   ],
   "source": [
    "positive_stations[['start_station_name', 'net_change']]"
   ]
  },
  {
   "cell_type": "code",
   "execution_count": 38,
   "metadata": {},
   "outputs": [
    {
     "data": {
      "text/html": [
       "<div>\n",
       "<style scoped>\n",
       "    .dataframe tbody tr th:only-of-type {\n",
       "        vertical-align: middle;\n",
       "    }\n",
       "\n",
       "    .dataframe tbody tr th {\n",
       "        vertical-align: top;\n",
       "    }\n",
       "\n",
       "    .dataframe thead th {\n",
       "        text-align: right;\n",
       "    }\n",
       "</style>\n",
       "<table border=\"1\" class=\"dataframe\">\n",
       "  <thead>\n",
       "    <tr style=\"text-align: right;\">\n",
       "      <th></th>\n",
       "      <th>start_station_name</th>\n",
       "      <th>net_change</th>\n",
       "    </tr>\n",
       "  </thead>\n",
       "  <tbody>\n",
       "    <tr>\n",
       "      <th>27</th>\n",
       "      <td>Grant Avenue at Columbus Avenue</td>\n",
       "      <td>-10860</td>\n",
       "    </tr>\n",
       "    <tr>\n",
       "      <th>0</th>\n",
       "      <td>2nd at Folsom</td>\n",
       "      <td>-8623</td>\n",
       "    </tr>\n",
       "    <tr>\n",
       "      <th>48</th>\n",
       "      <td>Powell at Post (Union Square)</td>\n",
       "      <td>-4952</td>\n",
       "    </tr>\n",
       "    <tr>\n",
       "      <th>8</th>\n",
       "      <td>Beale at Market</td>\n",
       "      <td>-4413</td>\n",
       "    </tr>\n",
       "    <tr>\n",
       "      <th>33</th>\n",
       "      <td>Market at 10th</td>\n",
       "      <td>-4135</td>\n",
       "    </tr>\n",
       "    <tr>\n",
       "      <th>77</th>\n",
       "      <td>Temporary Transbay Terminal (Howard at Beale)</td>\n",
       "      <td>-3872</td>\n",
       "    </tr>\n",
       "    <tr>\n",
       "      <th>72</th>\n",
       "      <td>South Van Ness at Market</td>\n",
       "      <td>-2917</td>\n",
       "    </tr>\n",
       "    <tr>\n",
       "      <th>20</th>\n",
       "      <td>Embarcadero at Bryant</td>\n",
       "      <td>-2474</td>\n",
       "    </tr>\n",
       "    <tr>\n",
       "      <th>26</th>\n",
       "      <td>Golden Gate at Polk</td>\n",
       "      <td>-2127</td>\n",
       "    </tr>\n",
       "    <tr>\n",
       "      <th>1</th>\n",
       "      <td>2nd at South Park</td>\n",
       "      <td>-1903</td>\n",
       "    </tr>\n",
       "  </tbody>\n",
       "</table>\n",
       "</div>"
      ],
      "text/plain": [
       "                               start_station_name  net_change\n",
       "27                Grant Avenue at Columbus Avenue      -10860\n",
       "0                                   2nd at Folsom       -8623\n",
       "48                  Powell at Post (Union Square)       -4952\n",
       "8                                 Beale at Market       -4413\n",
       "33                                 Market at 10th       -4135\n",
       "77  Temporary Transbay Terminal (Howard at Beale)       -3872\n",
       "72                       South Van Ness at Market       -2917\n",
       "20                          Embarcadero at Bryant       -2474\n",
       "26                            Golden Gate at Polk       -2127\n",
       "1                               2nd at South Park       -1903"
      ]
     },
     "execution_count": 38,
     "metadata": {},
     "output_type": "execute_result"
    }
   ],
   "source": [
    "negative_stations[['start_station_name', 'net_change']]"
   ]
  },
  {
   "cell_type": "code",
   "execution_count": 39,
   "metadata": {},
   "outputs": [
    {
     "data": {
      "image/png": "[encoded data removed]",
      "text/plain": [
       "<Figure size 936x720 with 1 Axes>"
      ]
     },
     "metadata": {
      "needs_background": "light"
     },
     "output_type": "display_data"
    }
   ],
   "source": [
    "negative_stations['geometry'] = negative_stations.apply(lambda row: Point(row['longitude'], row['latitude']), axis=1)\n",
    "positive_stations['geometry'] = positive_stations.apply(lambda row: Point(row['longitude'], row['latitude']), axis=1)\n",
    "neg_data = gpd.GeoDataFrame(negative_stations, crs=crs, geometry = 'geometry')\n",
    "pos_data = gpd.GeoDataFrame(positive_stations, crs=crs, geometry = 'geometry')\n",
    "\n",
    "fig, ax = plt.subplots(1, figsize=(13,10))\n",
    "sf_map = sf.plot(ax=ax, color='gray')\n",
    "neg_data.plot(ax=sf_map, marker=\"o\", markersize=neg_data['net_change']/-10, alpha=0.3, color='m')\n",
    "pos_data.plot(ax=sf_map, marker=\"o\", markersize=pos_data['net_change']/10, alpha=0.3, color='c')\n",
    "ax.set_title(\"Stations With Large Net Bike Flow\")\n",
    "neg_label = mpatches.Patch(color='m', label='Negative')\n",
    "pos_label = mpatches.Patch(color='c', label='Positive')\n",
    "plt.legend(handles=[neg_label, pos_label])\n",
    "plt.show()"
   ]
  },
  {
   "cell_type": "markdown",
   "metadata": {},
   "source": [
    "The stations shown above had the highest difference between inbound and outbound trips over the span of the dataset.\n",
    "\n",
    "An alternative view of bike shortages and surpluses involves stations' status reports, which contain the number of available bikes and docks."
   ]
  },
  {
   "cell_type": "code",
   "execution_count": 40,
   "metadata": {},
   "outputs": [],
   "source": [
    "%%bigquery least_bikes\n",
    "SELECT\n",
    "    name,\n",
    "    latitude,\n",
    "    longitude,\n",
    "    COUNT(*) AS times_unavailable\n",
    "FROM `bigquery-public-data.san_francisco.bikeshare_status` AS Statuses\n",
    "JOIN `bigquery-public-data.san_francisco.bikeshare_stations` AS Stations\n",
    "ON Statuses.station_id = Stations.station_id\n",
    "WHERE bikes_available = 0\n",
    "GROUP BY \n",
    "    name,\n",
    "    latitude,\n",
    "    longitude\n",
    "ORDER BY times_unavailable DESC\n",
    "LIMIT 10"
   ]
  },
  {
   "cell_type": "code",
   "execution_count": 41,
   "metadata": {},
   "outputs": [
    {
     "data": {
      "text/html": [
       "<div>\n",
       "<style scoped>\n",
       "    .dataframe tbody tr th:only-of-type {\n",
       "        vertical-align: middle;\n",
       "    }\n",
       "\n",
       "    .dataframe tbody tr th {\n",
       "        vertical-align: top;\n",
       "    }\n",
       "\n",
       "    .dataframe thead th {\n",
       "        text-align: right;\n",
       "    }\n",
       "</style>\n",
       "<table border=\"1\" class=\"dataframe\">\n",
       "  <thead>\n",
       "    <tr style=\"text-align: right;\">\n",
       "      <th></th>\n",
       "      <th>name</th>\n",
       "      <th>latitude</th>\n",
       "      <th>longitude</th>\n",
       "      <th>times_unavailable</th>\n",
       "    </tr>\n",
       "  </thead>\n",
       "  <tbody>\n",
       "    <tr>\n",
       "      <th>0</th>\n",
       "      <td>2nd at Folsom</td>\n",
       "      <td>37.785299</td>\n",
       "      <td>-122.396236</td>\n",
       "      <td>44844</td>\n",
       "    </tr>\n",
       "    <tr>\n",
       "      <th>1</th>\n",
       "      <td>Commercial at Montgomery</td>\n",
       "      <td>37.794231</td>\n",
       "      <td>-122.402923</td>\n",
       "      <td>44728</td>\n",
       "    </tr>\n",
       "    <tr>\n",
       "      <th>2</th>\n",
       "      <td>Embarcadero at Vallejo</td>\n",
       "      <td>37.799953</td>\n",
       "      <td>-122.398525</td>\n",
       "      <td>35903</td>\n",
       "    </tr>\n",
       "    <tr>\n",
       "      <th>3</th>\n",
       "      <td>Embarcadero at Sansome</td>\n",
       "      <td>37.804770</td>\n",
       "      <td>-122.403234</td>\n",
       "      <td>32980</td>\n",
       "    </tr>\n",
       "    <tr>\n",
       "      <th>4</th>\n",
       "      <td>Clay at Battery</td>\n",
       "      <td>37.795001</td>\n",
       "      <td>-122.399970</td>\n",
       "      <td>32505</td>\n",
       "    </tr>\n",
       "    <tr>\n",
       "      <th>5</th>\n",
       "      <td>San Francisco Caltrain (Townsend at 4th)</td>\n",
       "      <td>37.776617</td>\n",
       "      <td>-122.395260</td>\n",
       "      <td>32027</td>\n",
       "    </tr>\n",
       "    <tr>\n",
       "      <th>6</th>\n",
       "      <td>Grant Avenue at Columbus Avenue</td>\n",
       "      <td>37.797900</td>\n",
       "      <td>-122.405942</td>\n",
       "      <td>31733</td>\n",
       "    </tr>\n",
       "    <tr>\n",
       "      <th>7</th>\n",
       "      <td>Market at 4th</td>\n",
       "      <td>37.786305</td>\n",
       "      <td>-122.404966</td>\n",
       "      <td>30800</td>\n",
       "    </tr>\n",
       "    <tr>\n",
       "      <th>8</th>\n",
       "      <td>Howard at 2nd</td>\n",
       "      <td>37.786978</td>\n",
       "      <td>-122.398108</td>\n",
       "      <td>27938</td>\n",
       "    </tr>\n",
       "    <tr>\n",
       "      <th>9</th>\n",
       "      <td>Broadway St at Battery St</td>\n",
       "      <td>37.798541</td>\n",
       "      <td>-122.400862</td>\n",
       "      <td>25496</td>\n",
       "    </tr>\n",
       "  </tbody>\n",
       "</table>\n",
       "</div>"
      ],
      "text/plain": [
       "                                       name   latitude   longitude  \\\n",
       "0                             2nd at Folsom  37.785299 -122.396236   \n",
       "1                  Commercial at Montgomery  37.794231 -122.402923   \n",
       "2                    Embarcadero at Vallejo  37.799953 -122.398525   \n",
       "3                    Embarcadero at Sansome  37.804770 -122.403234   \n",
       "4                           Clay at Battery  37.795001 -122.399970   \n",
       "5  San Francisco Caltrain (Townsend at 4th)  37.776617 -122.395260   \n",
       "6           Grant Avenue at Columbus Avenue  37.797900 -122.405942   \n",
       "7                             Market at 4th  37.786305 -122.404966   \n",
       "8                             Howard at 2nd  37.786978 -122.398108   \n",
       "9                 Broadway St at Battery St  37.798541 -122.400862   \n",
       "\n",
       "   times_unavailable  \n",
       "0              44844  \n",
       "1              44728  \n",
       "2              35903  \n",
       "3              32980  \n",
       "4              32505  \n",
       "5              32027  \n",
       "6              31733  \n",
       "7              30800  \n",
       "8              27938  \n",
       "9              25496  "
      ]
     },
     "execution_count": 41,
     "metadata": {},
     "output_type": "execute_result"
    }
   ],
   "source": [
    "least_bikes"
   ]
  },
  {
   "cell_type": "markdown",
   "metadata": {},
   "source": [
    "The above table lists the 10 stations with the most status reports indicating no bikes were available - a bike shortage."
   ]
  },
  {
   "cell_type": "code",
   "execution_count": 44,
   "metadata": {},
   "outputs": [
    {
     "data": {
      "image/png": "[encoded data removed]",
      "text/plain": [
       "<Figure size 936x720 with 1 Axes>"
      ]
     },
     "metadata": {
      "needs_background": "light"
     },
     "output_type": "display_data"
    }
   ],
   "source": [
    "least_bikes['geometry'] = least_bikes.apply(lambda row: Point(row['longitude'], row['latitude']), axis=1)\n",
    "least_data = gpd.GeoDataFrame(least_bikes, crs=crs, geometry = 'geometry')\n",
    "\n",
    "fig, ax = plt.subplots(1, figsize=(13,10))\n",
    "sf_map = sf.plot(ax=ax, color='gray')\n",
    "least_data.plot(ax=sf_map, marker=\"o\", markersize=least_data['times_unavailable']/70, alpha=0.3, color='m')\n",
    "ax.set_title(\"Stations With Bike Deficits\")\n",
    "plt.show()"
   ]
  },
  {
   "cell_type": "markdown",
   "metadata": {},
   "source": [
    "The stations shown above had the most status reports indicating a bike shortage: 0 bikes remaining."
   ]
  },
  {
   "cell_type": "code",
   "execution_count": 42,
   "metadata": {},
   "outputs": [],
   "source": [
    "%%bigquery most_bikes\n",
    "SELECT\n",
    "    name,\n",
    "    latitude,\n",
    "    longitude,\n",
    "    COUNT(*) AS times_unavailable\n",
    "FROM `bigquery-public-data.san_francisco.bikeshare_status` AS Statuses\n",
    "JOIN `bigquery-public-data.san_francisco.bikeshare_stations` AS Stations\n",
    "ON Statuses.station_id = Stations.station_id\n",
    "WHERE docks_available = 0\n",
    "GROUP BY \n",
    "    name,   \n",
    "    latitude,\n",
    "    longitude\n",
    "ORDER BY times_unavailable DESC\n",
    "LIMIT 10"
   ]
  },
  {
   "cell_type": "code",
   "execution_count": 43,
   "metadata": {},
   "outputs": [
    {
     "data": {
      "text/html": [
       "<div>\n",
       "<style scoped>\n",
       "    .dataframe tbody tr th:only-of-type {\n",
       "        vertical-align: middle;\n",
       "    }\n",
       "\n",
       "    .dataframe tbody tr th {\n",
       "        vertical-align: top;\n",
       "    }\n",
       "\n",
       "    .dataframe thead th {\n",
       "        text-align: right;\n",
       "    }\n",
       "</style>\n",
       "<table border=\"1\" class=\"dataframe\">\n",
       "  <thead>\n",
       "    <tr style=\"text-align: right;\">\n",
       "      <th></th>\n",
       "      <th>name</th>\n",
       "      <th>latitude</th>\n",
       "      <th>longitude</th>\n",
       "      <th>times_unavailable</th>\n",
       "    </tr>\n",
       "  </thead>\n",
       "  <tbody>\n",
       "    <tr>\n",
       "      <th>0</th>\n",
       "      <td>San Francisco Caltrain (Townsend at 4th)</td>\n",
       "      <td>37.776617</td>\n",
       "      <td>-122.395260</td>\n",
       "      <td>43079</td>\n",
       "    </tr>\n",
       "    <tr>\n",
       "      <th>1</th>\n",
       "      <td>Embarcadero at Bryant</td>\n",
       "      <td>37.787152</td>\n",
       "      <td>-122.388013</td>\n",
       "      <td>39401</td>\n",
       "    </tr>\n",
       "    <tr>\n",
       "      <th>2</th>\n",
       "      <td>Grant Avenue at Columbus Avenue</td>\n",
       "      <td>37.797900</td>\n",
       "      <td>-122.405942</td>\n",
       "      <td>33112</td>\n",
       "    </tr>\n",
       "    <tr>\n",
       "      <th>3</th>\n",
       "      <td>Embarcadero at Sansome</td>\n",
       "      <td>37.804770</td>\n",
       "      <td>-122.403234</td>\n",
       "      <td>25476</td>\n",
       "    </tr>\n",
       "    <tr>\n",
       "      <th>4</th>\n",
       "      <td>San Francisco Caltrain 2 (330 Townsend)</td>\n",
       "      <td>37.776600</td>\n",
       "      <td>-122.395470</td>\n",
       "      <td>23605</td>\n",
       "    </tr>\n",
       "    <tr>\n",
       "      <th>5</th>\n",
       "      <td>Townsend at 7th</td>\n",
       "      <td>37.771058</td>\n",
       "      <td>-122.402717</td>\n",
       "      <td>18534</td>\n",
       "    </tr>\n",
       "    <tr>\n",
       "      <th>6</th>\n",
       "      <td>Harry Bridges Plaza (Ferry Building)</td>\n",
       "      <td>37.795392</td>\n",
       "      <td>-122.394203</td>\n",
       "      <td>18036</td>\n",
       "    </tr>\n",
       "    <tr>\n",
       "      <th>7</th>\n",
       "      <td>Civic Center BART (7th at Market)</td>\n",
       "      <td>37.781039</td>\n",
       "      <td>-122.411748</td>\n",
       "      <td>17017</td>\n",
       "    </tr>\n",
       "    <tr>\n",
       "      <th>8</th>\n",
       "      <td>Embarcadero at Vallejo</td>\n",
       "      <td>37.799953</td>\n",
       "      <td>-122.398525</td>\n",
       "      <td>16824</td>\n",
       "    </tr>\n",
       "    <tr>\n",
       "      <th>9</th>\n",
       "      <td>Powell Street BART</td>\n",
       "      <td>37.783871</td>\n",
       "      <td>-122.408433</td>\n",
       "      <td>14279</td>\n",
       "    </tr>\n",
       "  </tbody>\n",
       "</table>\n",
       "</div>"
      ],
      "text/plain": [
       "                                       name   latitude   longitude  \\\n",
       "0  San Francisco Caltrain (Townsend at 4th)  37.776617 -122.395260   \n",
       "1                     Embarcadero at Bryant  37.787152 -122.388013   \n",
       "2           Grant Avenue at Columbus Avenue  37.797900 -122.405942   \n",
       "3                    Embarcadero at Sansome  37.804770 -122.403234   \n",
       "4   San Francisco Caltrain 2 (330 Townsend)  37.776600 -122.395470   \n",
       "5                           Townsend at 7th  37.771058 -122.402717   \n",
       "6      Harry Bridges Plaza (Ferry Building)  37.795392 -122.394203   \n",
       "7         Civic Center BART (7th at Market)  37.781039 -122.411748   \n",
       "8                    Embarcadero at Vallejo  37.799953 -122.398525   \n",
       "9                        Powell Street BART  37.783871 -122.408433   \n",
       "\n",
       "   times_unavailable  \n",
       "0              43079  \n",
       "1              39401  \n",
       "2              33112  \n",
       "3              25476  \n",
       "4              23605  \n",
       "5              18534  \n",
       "6              18036  \n",
       "7              17017  \n",
       "8              16824  \n",
       "9              14279  "
      ]
     },
     "execution_count": 43,
     "metadata": {},
     "output_type": "execute_result"
    }
   ],
   "source": [
    "most_bikes"
   ]
  },
  {
   "cell_type": "markdown",
   "metadata": {},
   "source": [
    "The above table lists the 10 stations with the most status reports indicating no docks were available - a bike surplus."
   ]
  },
  {
   "cell_type": "code",
   "execution_count": 45,
   "metadata": {},
   "outputs": [
    {
     "data": {
      "image/png": "[encoded data removed]",
      "text/plain": [
       "<Figure size 936x720 with 1 Axes>"
      ]
     },
     "metadata": {
      "needs_background": "light"
     },
     "output_type": "display_data"
    }
   ],
   "source": [
    "most_bikes['geometry'] = most_bikes.apply(lambda row: Point(row['longitude'], row['latitude']), axis=1)\n",
    "most_data = gpd.GeoDataFrame(most_bikes, crs=crs, geometry = 'geometry')\n",
    "\n",
    "fig, ax = plt.subplots(1, figsize=(13,10))\n",
    "sf_map = sf.plot(ax=ax, color='gray')\n",
    "most_data.plot(ax=sf_map, marker=\"o\", markersize=most_data['times_unavailable']/50, alpha=0.3, color='c')\n",
    "ax.set_title(\"Stations With Bike Surpluses\")\n",
    "plt.show()"
   ]
  },
  {
   "cell_type": "markdown",
   "metadata": {},
   "source": [
    "The stations shown above had the most status reports indicating a bike surplus: 0 docks remaining."
   ]
  },
  {
   "cell_type": "code",
   "execution_count": 57,
   "metadata": {},
   "outputs": [],
   "source": [
    "%%bigquery subscriber_trip_durations\n",
    "SELECT duration_sec\n",
    "FROM `bigquery-public-data.san_francisco.bikeshare_trips`\n",
    "WHERE SUBSTRING(zip_code, 1, 2) = \"94\"\n",
    "AND subscriber_type = \"Subscriber\""
   ]
  },
  {
   "cell_type": "code",
   "execution_count": 58,
   "metadata": {},
   "outputs": [
    {
     "data": {
      "image/png": "[encoded data removed]",
      "text/plain": [
       "<Figure size 432x288 with 1 Axes>"
      ]
     },
     "metadata": {
      "needs_background": "light"
     },
     "output_type": "display_data"
    }
   ],
   "source": [
    "plt.hist(subscriber_trip_durations, 100, range=[0, 4000], facecolor='gray', align='mid')\n",
    "plt.title('Bay Area subscriber trip lengths')\n",
    "plt.xlabel('Trip length (sec)')\n",
    "plt.ylabel('Trip count')\n",
    "plt.show()"
   ]
  },
  {
   "cell_type": "code",
   "execution_count": 59,
   "metadata": {},
   "outputs": [],
   "source": [
    "%%bigquery non_subscriber_trip_durations\n",
    "SELECT duration_sec\n",
    "FROM `bigquery-public-data.san_francisco.bikeshare_trips`\n",
    "WHERE SUBSTRING(zip_code, 1, 2) = \"94\"\n",
    "AND EXTRACT(\n",
    "    DAYOFWEEK FROM start_date\n",
    ") NOT BETWEEN 2 AND 6"
   ]
  },
  {
   "cell_type": "code",
   "execution_count": 60,
   "metadata": {},
   "outputs": [
    {
     "data": {
      "image/png": "[encoded data removed]",
      "text/plain": [
       "<Figure size 432x288 with 1 Axes>"
      ]
     },
     "metadata": {
      "needs_background": "light"
     },
     "output_type": "display_data"
    }
   ],
   "source": [
    "plt.hist(non_subscriber_trip_durations, 100, range=[0, 4000], facecolor='gray', align='mid')\n",
    "plt.title('Bay Area non-subscriber trip lengths')\n",
    "plt.xlabel('Trip length (sec)')\n",
    "plt.ylabel('Trip count')\n",
    "plt.show()"
   ]
  },
  {
   "cell_type": "markdown",
   "metadata": {},
   "source": [
    "Subscribers get free 45-min trips (2700 sec) while non-subscribers pay a flat fee for 30-min trips (1800 sec); any additional trip time costs more. Based on the above distributions of trip lengths, few subscriber trips exceeded 2700 sec, while a larger fraction of non-subscriber trips exceeded 1800 sec.\n",
    "\n",
    "This suggests that the extra cost is a deterrent for users interested in longer trips, but some users (mostly non-subscribers) are still interested enough in longer trips to pay extra for them. Thus, increased trip times could be used as a potential incentive."
   ]
  },
  {
   "cell_type": "markdown",
   "metadata": {},
   "source": [
    "<a id='p2'></a>**Proposal 2:** Reduce bike shortages/surpluses by offering extended ride times to both subscribers and non-subscribers for specific trips: \"If you start your ride at station A and end your ride in station B, you get an extra 15 min added to your ride with no charge.\" The incentivized trips would be to/from stations that tend to experience (or are currently experiencing) bike shortages/surpluses."
   ]
  },
  {
   "cell_type": "code",
   "execution_count": 91,
   "metadata": {},
   "outputs": [],
   "source": [
    "%%bigquery least_bikes_morning\n",
    "SELECT\n",
    "    name,\n",
    "    COUNT(*) AS times_unavailable\n",
    "FROM `bigquery-public-data.san_francisco.bikeshare_status` AS Statuses\n",
    "JOIN `bigquery-public-data.san_francisco.bikeshare_stations` AS Stations\n",
    "ON Statuses.station_id = Stations.station_id\n",
    "WHERE bikes_available = 0\n",
    "AND EXTRACT(\n",
    "    HOUR FROM time\n",
    ") BETWEEN 6 AND 11\n",
    "GROUP BY name\n",
    "ORDER BY times_unavailable DESC\n",
    "LIMIT 10"
   ]
  },
  {
   "cell_type": "code",
   "execution_count": 92,
   "metadata": {},
   "outputs": [
    {
     "data": {
      "text/html": [
       "<div>\n",
       "<style scoped>\n",
       "    .dataframe tbody tr th:only-of-type {\n",
       "        vertical-align: middle;\n",
       "    }\n",
       "\n",
       "    .dataframe tbody tr th {\n",
       "        vertical-align: top;\n",
       "    }\n",
       "\n",
       "    .dataframe thead th {\n",
       "        text-align: right;\n",
       "    }\n",
       "</style>\n",
       "<table border=\"1\" class=\"dataframe\">\n",
       "  <thead>\n",
       "    <tr style=\"text-align: right;\">\n",
       "      <th></th>\n",
       "      <th>name</th>\n",
       "      <th>times_unavailable</th>\n",
       "    </tr>\n",
       "  </thead>\n",
       "  <tbody>\n",
       "    <tr>\n",
       "      <th>0</th>\n",
       "      <td>San Francisco Caltrain (Townsend at 4th)</td>\n",
       "      <td>27396</td>\n",
       "    </tr>\n",
       "    <tr>\n",
       "      <th>1</th>\n",
       "      <td>Grant Avenue at Columbus Avenue</td>\n",
       "      <td>20960</td>\n",
       "    </tr>\n",
       "    <tr>\n",
       "      <th>2</th>\n",
       "      <td>Embarcadero at Bryant</td>\n",
       "      <td>16371</td>\n",
       "    </tr>\n",
       "    <tr>\n",
       "      <th>3</th>\n",
       "      <td>Temporary Transbay Terminal (Howard at Beale)</td>\n",
       "      <td>13407</td>\n",
       "    </tr>\n",
       "    <tr>\n",
       "      <th>4</th>\n",
       "      <td>Powell at Post (Union Square)</td>\n",
       "      <td>13223</td>\n",
       "    </tr>\n",
       "    <tr>\n",
       "      <th>5</th>\n",
       "      <td>Harry Bridges Plaza (Ferry Building)</td>\n",
       "      <td>12302</td>\n",
       "    </tr>\n",
       "    <tr>\n",
       "      <th>6</th>\n",
       "      <td>San Francisco Caltrain 2 (330 Townsend)</td>\n",
       "      <td>11909</td>\n",
       "    </tr>\n",
       "    <tr>\n",
       "      <th>7</th>\n",
       "      <td>Civic Center BART (7th at Market)</td>\n",
       "      <td>10031</td>\n",
       "    </tr>\n",
       "    <tr>\n",
       "      <th>8</th>\n",
       "      <td>2nd at Folsom</td>\n",
       "      <td>9859</td>\n",
       "    </tr>\n",
       "    <tr>\n",
       "      <th>9</th>\n",
       "      <td>Embarcadero at Sansome</td>\n",
       "      <td>8419</td>\n",
       "    </tr>\n",
       "  </tbody>\n",
       "</table>\n",
       "</div>"
      ],
      "text/plain": [
       "                                            name  times_unavailable\n",
       "0       San Francisco Caltrain (Townsend at 4th)              27396\n",
       "1                Grant Avenue at Columbus Avenue              20960\n",
       "2                          Embarcadero at Bryant              16371\n",
       "3  Temporary Transbay Terminal (Howard at Beale)              13407\n",
       "4                  Powell at Post (Union Square)              13223\n",
       "5           Harry Bridges Plaza (Ferry Building)              12302\n",
       "6        San Francisco Caltrain 2 (330 Townsend)              11909\n",
       "7              Civic Center BART (7th at Market)              10031\n",
       "8                                  2nd at Folsom               9859\n",
       "9                         Embarcadero at Sansome               8419"
      ]
     },
     "execution_count": 92,
     "metadata": {},
     "output_type": "execute_result"
    }
   ],
   "source": [
    "least_bikes_morning"
   ]
  },
  {
   "cell_type": "markdown",
   "metadata": {},
   "source": [
    "The above table lists the 10 stations with the most status reports between 6am-noon indicating a bike shortage. Note the prevalence of public transit stations, likely due to commuters arriving in the city by train then biking to work."
   ]
  },
  {
   "cell_type": "code",
   "execution_count": 93,
   "metadata": {},
   "outputs": [],
   "source": [
    "%%bigquery least_bikes_afternoon\n",
    "SELECT\n",
    "    name,\n",
    "    COUNT(*) AS times_unavailable\n",
    "FROM `bigquery-public-data.san_francisco.bikeshare_status` AS Statuses\n",
    "JOIN `bigquery-public-data.san_francisco.bikeshare_stations` AS Stations\n",
    "ON Statuses.station_id = Stations.station_id\n",
    "WHERE bikes_available = 0\n",
    "AND EXTRACT(\n",
    "    HOUR FROM time\n",
    ") BETWEEN 12 AND 17\n",
    "GROUP BY name\n",
    "ORDER BY times_unavailable DESC\n",
    "LIMIT 10"
   ]
  },
  {
   "cell_type": "code",
   "execution_count": 94,
   "metadata": {},
   "outputs": [
    {
     "data": {
      "text/html": [
       "<div>\n",
       "<style scoped>\n",
       "    .dataframe tbody tr th:only-of-type {\n",
       "        vertical-align: middle;\n",
       "    }\n",
       "\n",
       "    .dataframe tbody tr th {\n",
       "        vertical-align: top;\n",
       "    }\n",
       "\n",
       "    .dataframe thead th {\n",
       "        text-align: right;\n",
       "    }\n",
       "</style>\n",
       "<table border=\"1\" class=\"dataframe\">\n",
       "  <thead>\n",
       "    <tr style=\"text-align: right;\">\n",
       "      <th></th>\n",
       "      <th>name</th>\n",
       "      <th>times_unavailable</th>\n",
       "    </tr>\n",
       "  </thead>\n",
       "  <tbody>\n",
       "    <tr>\n",
       "      <th>0</th>\n",
       "      <td>Beale at Market</td>\n",
       "      <td>9449</td>\n",
       "    </tr>\n",
       "    <tr>\n",
       "      <th>1</th>\n",
       "      <td>2nd at Folsom</td>\n",
       "      <td>8748</td>\n",
       "    </tr>\n",
       "    <tr>\n",
       "      <th>2</th>\n",
       "      <td>San Francisco Caltrain 2 (330 Townsend)</td>\n",
       "      <td>8236</td>\n",
       "    </tr>\n",
       "    <tr>\n",
       "      <th>3</th>\n",
       "      <td>Embarcadero at Sansome</td>\n",
       "      <td>7809</td>\n",
       "    </tr>\n",
       "    <tr>\n",
       "      <th>4</th>\n",
       "      <td>Townsend at 7th</td>\n",
       "      <td>7691</td>\n",
       "    </tr>\n",
       "    <tr>\n",
       "      <th>5</th>\n",
       "      <td>Grant Avenue at Columbus Avenue</td>\n",
       "      <td>7672</td>\n",
       "    </tr>\n",
       "    <tr>\n",
       "      <th>6</th>\n",
       "      <td>Steuart at Market</td>\n",
       "      <td>6427</td>\n",
       "    </tr>\n",
       "    <tr>\n",
       "      <th>7</th>\n",
       "      <td>Embarcadero at Vallejo</td>\n",
       "      <td>6198</td>\n",
       "    </tr>\n",
       "    <tr>\n",
       "      <th>8</th>\n",
       "      <td>Embarcadero at Bryant</td>\n",
       "      <td>5608</td>\n",
       "    </tr>\n",
       "    <tr>\n",
       "      <th>9</th>\n",
       "      <td>Commercial at Montgomery</td>\n",
       "      <td>5572</td>\n",
       "    </tr>\n",
       "  </tbody>\n",
       "</table>\n",
       "</div>"
      ],
      "text/plain": [
       "                                      name  times_unavailable\n",
       "0                          Beale at Market               9449\n",
       "1                            2nd at Folsom               8748\n",
       "2  San Francisco Caltrain 2 (330 Townsend)               8236\n",
       "3                   Embarcadero at Sansome               7809\n",
       "4                          Townsend at 7th               7691\n",
       "5          Grant Avenue at Columbus Avenue               7672\n",
       "6                        Steuart at Market               6427\n",
       "7                   Embarcadero at Vallejo               6198\n",
       "8                    Embarcadero at Bryant               5608\n",
       "9                 Commercial at Montgomery               5572"
      ]
     },
     "execution_count": 94,
     "metadata": {},
     "output_type": "execute_result"
    }
   ],
   "source": [
    "least_bikes_afternoon"
   ]
  },
  {
   "cell_type": "markdown",
   "metadata": {},
   "source": [
    "The above table lists the 10 stations with the most status reports between noon-6pm indicating a bike shortage."
   ]
  },
  {
   "cell_type": "code",
   "execution_count": 96,
   "metadata": {},
   "outputs": [],
   "source": [
    "%%bigquery most_bikes_morning\n",
    "SELECT\n",
    "    name,\n",
    "    COUNT(*) AS times_unavailable\n",
    "FROM `bigquery-public-data.san_francisco.bikeshare_status` AS Statuses\n",
    "JOIN `bigquery-public-data.san_francisco.bikeshare_stations` AS Stations\n",
    "ON Statuses.station_id = Stations.station_id\n",
    "WHERE docks_available = 0\n",
    "AND EXTRACT(\n",
    "    HOUR FROM time\n",
    ") BETWEEN 6 AND 11\n",
    "GROUP BY name\n",
    "ORDER BY times_unavailable DESC\n",
    "LIMIT 10"
   ]
  },
  {
   "cell_type": "code",
   "execution_count": 97,
   "metadata": {},
   "outputs": [
    {
     "data": {
      "text/html": [
       "<div>\n",
       "<style scoped>\n",
       "    .dataframe tbody tr th:only-of-type {\n",
       "        vertical-align: middle;\n",
       "    }\n",
       "\n",
       "    .dataframe tbody tr th {\n",
       "        vertical-align: top;\n",
       "    }\n",
       "\n",
       "    .dataframe thead th {\n",
       "        text-align: right;\n",
       "    }\n",
       "</style>\n",
       "<table border=\"1\" class=\"dataframe\">\n",
       "  <thead>\n",
       "    <tr style=\"text-align: right;\">\n",
       "      <th></th>\n",
       "      <th>name</th>\n",
       "      <th>times_unavailable</th>\n",
       "    </tr>\n",
       "  </thead>\n",
       "  <tbody>\n",
       "    <tr>\n",
       "      <th>0</th>\n",
       "      <td>Embarcadero at Vallejo</td>\n",
       "      <td>9122</td>\n",
       "    </tr>\n",
       "    <tr>\n",
       "      <th>1</th>\n",
       "      <td>Townsend at 7th</td>\n",
       "      <td>7793</td>\n",
       "    </tr>\n",
       "    <tr>\n",
       "      <th>2</th>\n",
       "      <td>Embarcadero at Sansome</td>\n",
       "      <td>7014</td>\n",
       "    </tr>\n",
       "    <tr>\n",
       "      <th>3</th>\n",
       "      <td>2nd at South Park</td>\n",
       "      <td>6498</td>\n",
       "    </tr>\n",
       "    <tr>\n",
       "      <th>4</th>\n",
       "      <td>Howard at 2nd</td>\n",
       "      <td>6012</td>\n",
       "    </tr>\n",
       "    <tr>\n",
       "      <th>5</th>\n",
       "      <td>San Francisco Caltrain 2 (330 Townsend)</td>\n",
       "      <td>5481</td>\n",
       "    </tr>\n",
       "    <tr>\n",
       "      <th>6</th>\n",
       "      <td>Grant Avenue at Columbus Avenue</td>\n",
       "      <td>5237</td>\n",
       "    </tr>\n",
       "    <tr>\n",
       "      <th>7</th>\n",
       "      <td>Commercial at Montgomery</td>\n",
       "      <td>5179</td>\n",
       "    </tr>\n",
       "    <tr>\n",
       "      <th>8</th>\n",
       "      <td>Santa Clara at Almaden</td>\n",
       "      <td>5006</td>\n",
       "    </tr>\n",
       "    <tr>\n",
       "      <th>9</th>\n",
       "      <td>5th at Howard</td>\n",
       "      <td>4445</td>\n",
       "    </tr>\n",
       "  </tbody>\n",
       "</table>\n",
       "</div>"
      ],
      "text/plain": [
       "                                      name  times_unavailable\n",
       "0                   Embarcadero at Vallejo               9122\n",
       "1                          Townsend at 7th               7793\n",
       "2                   Embarcadero at Sansome               7014\n",
       "3                        2nd at South Park               6498\n",
       "4                            Howard at 2nd               6012\n",
       "5  San Francisco Caltrain 2 (330 Townsend)               5481\n",
       "6          Grant Avenue at Columbus Avenue               5237\n",
       "7                 Commercial at Montgomery               5179\n",
       "8                   Santa Clara at Almaden               5006\n",
       "9                            5th at Howard               4445"
      ]
     },
     "execution_count": 97,
     "metadata": {},
     "output_type": "execute_result"
    }
   ],
   "source": [
    "most_bikes_morning"
   ]
  },
  {
   "cell_type": "markdown",
   "metadata": {},
   "source": [
    "The above table lists the 10 stations with the most status reports between 6am-noon indicating a bike surplus."
   ]
  },
  {
   "cell_type": "code",
   "execution_count": 98,
   "metadata": {},
   "outputs": [],
   "source": [
    "%%bigquery most_bikes_afternoon\n",
    "SELECT\n",
    "    name,\n",
    "    COUNT(*) AS times_unavailable\n",
    "FROM `bigquery-public-data.san_francisco.bikeshare_status` AS Statuses\n",
    "JOIN `bigquery-public-data.san_francisco.bikeshare_stations` AS Stations\n",
    "ON Statuses.station_id = Stations.station_id\n",
    "WHERE docks_available = 0\n",
    "AND EXTRACT(\n",
    "    HOUR FROM time\n",
    ") BETWEEN 12 AND 17\n",
    "GROUP BY name\n",
    "ORDER BY times_unavailable DESC\n",
    "LIMIT 10"
   ]
  },
  {
   "cell_type": "code",
   "execution_count": 99,
   "metadata": {},
   "outputs": [
    {
     "data": {
      "text/html": [
       "<div>\n",
       "<style scoped>\n",
       "    .dataframe tbody tr th:only-of-type {\n",
       "        vertical-align: middle;\n",
       "    }\n",
       "\n",
       "    .dataframe tbody tr th {\n",
       "        vertical-align: top;\n",
       "    }\n",
       "\n",
       "    .dataframe thead th {\n",
       "        text-align: right;\n",
       "    }\n",
       "</style>\n",
       "<table border=\"1\" class=\"dataframe\">\n",
       "  <thead>\n",
       "    <tr style=\"text-align: right;\">\n",
       "      <th></th>\n",
       "      <th>name</th>\n",
       "      <th>times_unavailable</th>\n",
       "    </tr>\n",
       "  </thead>\n",
       "  <tbody>\n",
       "    <tr>\n",
       "      <th>0</th>\n",
       "      <td>Embarcadero at Sansome</td>\n",
       "      <td>13777</td>\n",
       "    </tr>\n",
       "    <tr>\n",
       "      <th>1</th>\n",
       "      <td>San Francisco Caltrain (Townsend at 4th)</td>\n",
       "      <td>6914</td>\n",
       "    </tr>\n",
       "    <tr>\n",
       "      <th>2</th>\n",
       "      <td>Embarcadero at Vallejo</td>\n",
       "      <td>6559</td>\n",
       "    </tr>\n",
       "    <tr>\n",
       "      <th>3</th>\n",
       "      <td>2nd at South Park</td>\n",
       "      <td>5390</td>\n",
       "    </tr>\n",
       "    <tr>\n",
       "      <th>4</th>\n",
       "      <td>Harry Bridges Plaza (Ferry Building)</td>\n",
       "      <td>4459</td>\n",
       "    </tr>\n",
       "    <tr>\n",
       "      <th>5</th>\n",
       "      <td>Howard at 2nd</td>\n",
       "      <td>4171</td>\n",
       "    </tr>\n",
       "    <tr>\n",
       "      <th>6</th>\n",
       "      <td>Mountain View City Hall</td>\n",
       "      <td>3365</td>\n",
       "    </tr>\n",
       "    <tr>\n",
       "      <th>7</th>\n",
       "      <td>Townsend at 7th</td>\n",
       "      <td>3079</td>\n",
       "    </tr>\n",
       "    <tr>\n",
       "      <th>8</th>\n",
       "      <td>Santa Clara at Almaden</td>\n",
       "      <td>2651</td>\n",
       "    </tr>\n",
       "    <tr>\n",
       "      <th>9</th>\n",
       "      <td>University and Emerson</td>\n",
       "      <td>2592</td>\n",
       "    </tr>\n",
       "  </tbody>\n",
       "</table>\n",
       "</div>"
      ],
      "text/plain": [
       "                                       name  times_unavailable\n",
       "0                    Embarcadero at Sansome              13777\n",
       "1  San Francisco Caltrain (Townsend at 4th)               6914\n",
       "2                    Embarcadero at Vallejo               6559\n",
       "3                         2nd at South Park               5390\n",
       "4      Harry Bridges Plaza (Ferry Building)               4459\n",
       "5                             Howard at 2nd               4171\n",
       "6                   Mountain View City Hall               3365\n",
       "7                           Townsend at 7th               3079\n",
       "8                    Santa Clara at Almaden               2651\n",
       "9                    University and Emerson               2592"
      ]
     },
     "execution_count": 99,
     "metadata": {},
     "output_type": "execute_result"
    }
   ],
   "source": [
    "most_bikes_afternoon"
   ]
  },
  {
   "cell_type": "markdown",
   "metadata": {},
   "source": [
    "The above table lists the 10 stations with the most status reports between noon-6pm indicating a bike surplus."
   ]
  },
  {
   "cell_type": "markdown",
   "metadata": {},
   "source": [
    "<a id='p3'></a>**Proposal 3:** During the time of day that a station is known to experience stress on the bike supply, incentivize users to make trips that counteract the current stress on the station, by:\n",
    "  - Offering additional ride time (as in [Proposal 2](#p2)) to both subscribers and non-subscribers\n",
    "  - Offering reduced unlock costs and/or additional time rates to non-subscribers\n",
    "\n",
    "Additionally, impose extra charges on users who make trips that increase the current stress, by:\n",
    "- Charging higher unlock costs for non-subscribers\n",
    "- Charging higher additional time rates for both subscribers and non-subscribers"
   ]
  }
 ],
 "metadata": {
  "environment": {
   "name": "tf2-gpu.2-1.m61",
   "type": "gcloud",
   "uri": "gcr.io/deeplearning-platform-release/tf2-gpu.2-1:m61"
  },
  "kernelspec": {
   "display_name": "Python 3",
   "language": "python",
   "name": "python3"
  },
  "language_info": {
   "codemirror_mode": {
    "name": "ipython",
    "version": 3
   },
   "file_extension": ".py",
   "mimetype": "text/x-python",
   "name": "python",
   "nbconvert_exporter": "python",
   "pygments_lexer": "ipython3",
   "version": "3.7.9"
  }
 },
 "nbformat": 4,
 "nbformat_minor": 4
}
